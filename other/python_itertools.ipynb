{
 "cells": [
  {
   "cell_type": "markdown",
   "source": [
    "# Itertools"
   ],
   "metadata": {}
  },
  {
   "cell_type": "code",
   "execution_count": null,
   "source": [
    "import itertools"
   ],
   "outputs": [],
   "metadata": {}
  },
  {
   "cell_type": "markdown",
   "source": [
    "### itertools.**count**(*start=0*, *step=1*)\n",
    "Make an iterator that returns evenly spaced values starting with number start. Often used as an argument to map() to generate consecutive data points. Also, used with zip() to add sequence numbers."
   ],
   "metadata": {}
  },
  {
   "cell_type": "code",
   "execution_count": 104,
   "source": [
    "counter = itertools.count(start=1, step=2)\n",
    "print(next(counter))\n",
    "print(next(counter))\n",
    "print(next(counter))\n",
    "\n",
    "data = [100,200,300,400]\n",
    "daily_data = list(zip(itertools.count(), data))\n",
    "print(daily_data)"
   ],
   "outputs": [
    {
     "output_type": "stream",
     "name": "stdout",
     "text": [
      "1\n",
      "3\n",
      "5\n",
      "[(0, 100), (1, 200), (2, 300), (3, 400)]\n"
     ]
    }
   ],
   "metadata": {}
  },
  {
   "cell_type": "markdown",
   "source": [
    "### itertools.**zip_longest**(**iterables*, *fillvalue=None*)\n",
    "Make an iterator that aggregates elements from each of the iterables. If the iterables are of uneven length, missing values are filled-in with fillvalue. Iteration continues until the longest iterable is exhausted."
   ],
   "metadata": {}
  },
  {
   "cell_type": "code",
   "execution_count": 107,
   "source": [
    "daily_data = list(itertools.zip_longest(range(10), data))\n",
    "print(daily_data)"
   ],
   "outputs": [
    {
     "output_type": "stream",
     "name": "stdout",
     "text": [
      "[(0, 100), (1, 200), (2, 300), (3, 400), (4, None), (5, None), (6, None), (7, None), (8, None), (9, None)]\n"
     ]
    }
   ],
   "metadata": {}
  },
  {
   "cell_type": "code",
   "execution_count": null,
   "source": [
    "counter = itertools.cycle(['On', 'Off'])\n",
    "\n",
    "print(next(counter))\n",
    "print(next(counter))\n",
    "print(next(counter))\n",
    "print(next(counter))"
   ],
   "outputs": [],
   "metadata": {}
  },
  {
   "cell_type": "code",
   "execution_count": null,
   "source": [
    "counter = itertools.repeat(2, times=4)\n",
    "print(next(counter))\n",
    "print(next(counter))\n",
    "print(next(counter))\n",
    "print(next(counter))\n",
    "\n",
    "\n",
    "# list of squares of numbers with given range\n",
    "squares = map(pow, range(1,10), itertools.repeat(2))\n",
    "print(list(squares))"
   ],
   "outputs": [],
   "metadata": {}
  },
  {
   "cell_type": "code",
   "execution_count": null,
   "source": [
    "squares = itertools.starmap(pow, [(0,2), (1,2), (2,2)])\n",
    "print(list(squares))"
   ],
   "outputs": [],
   "metadata": {}
  },
  {
   "cell_type": "code",
   "execution_count": null,
   "source": [
    "letters = ['a','b','c','d']\n",
    "numbers = [0,1,2,3]\n",
    "names = ['Cristine', 'David']"
   ],
   "outputs": [],
   "metadata": {}
  },
  {
   "cell_type": "markdown",
   "source": [
    "### itertools.**combinations**(*iterable*, *r*)\n",
    "Return `r` length subsequences of elements from the input iterable."
   ],
   "metadata": {}
  },
  {
   "cell_type": "code",
   "execution_count": null,
   "source": [
    "\n",
    "result = itertools.combinations(letters, 2)\n",
    "print(list(result))\n",
    "\n",
    "for item in list(result):\n",
    "\tprint(item)"
   ],
   "outputs": [],
   "metadata": {}
  },
  {
   "cell_type": "markdown",
   "source": [
    "### itertools.**permutations**(*iterable*, *r=None*)\n",
    "Return `r` successive length permutations of elements from the input iterable."
   ],
   "metadata": {}
  },
  {
   "cell_type": "code",
   "execution_count": null,
   "source": [
    "result = itertools.permutations(letters, 2)\n",
    "print(list(result))\n",
    "\n",
    "for item in list(result):\n",
    "\tprint(item)"
   ],
   "outputs": [],
   "metadata": {}
  },
  {
   "cell_type": "markdown",
   "source": [
    "### itertools.**product**(*iterables*, *repeat=1*)\n",
    "Return cartesian product of input iterables. Roughly equivalent to nested for-loops in a generator expression. For example, `product(A, B)` returns the same as `((x,y) for x in A for y in B)`."
   ],
   "metadata": {}
  },
  {
   "cell_type": "code",
   "execution_count": null,
   "source": [
    "result = itertools.product(numbers, repeat=2)\n",
    "\n",
    "for item in list(result):\n",
    "\tprint(item)"
   ],
   "outputs": [],
   "metadata": {}
  },
  {
   "cell_type": "markdown",
   "source": [
    "### itertools.**combinations_with_replacement**(*iterable*, *r*)\n",
    "Return `r` length subsequences of elements from the input iterable allowing \n",
    "individual elements to be repeated more than once."
   ],
   "metadata": {}
  },
  {
   "cell_type": "code",
   "execution_count": null,
   "source": [
    "result = itertools.combinations_with_replacement(numbers, 2)\n",
    "\n",
    "for item in list(result):\n",
    "\tprint(item)"
   ],
   "outputs": [],
   "metadata": {}
  },
  {
   "cell_type": "markdown",
   "source": [
    "### itertools.**chain**(*iterables*)\n",
    "Make an iterator that returns elements from the first iterable until it is exhausted, then proceeds to the next iterable, until all of the iterables are exhausted."
   ],
   "metadata": {}
  },
  {
   "cell_type": "code",
   "execution_count": null,
   "source": [
    "combined = itertools.chain(letters, numbers, names)\n",
    "\n",
    "for item in combined:\n",
    "\tprint(item)"
   ],
   "outputs": [],
   "metadata": {}
  },
  {
   "cell_type": "markdown",
   "source": [
    "### itertools.**islice**(*iterable*, *start*, *stop*, *step*)\n",
    "Similar to regular list slicing. Unlike regular slicing, islice() does not support negative values for start, stop, or step."
   ],
   "metadata": {}
  },
  {
   "cell_type": "code",
   "execution_count": 113,
   "source": [
    "result = itertools.islice(range(10), 1, 8, 2)\n",
    "\n",
    "for item in result:\n",
    "\tprint(item)"
   ],
   "outputs": [
    {
     "output_type": "stream",
     "name": "stdout",
     "text": [
      "1\n",
      "3\n",
      "5\n",
      "7\n"
     ]
    }
   ],
   "metadata": {}
  },
  {
   "cell_type": "code",
   "execution_count": null,
   "source": [],
   "outputs": [],
   "metadata": {}
  }
 ],
 "metadata": {
  "orig_nbformat": 4,
  "language_info": {
   "name": "python",
   "version": "3.9.6",
   "mimetype": "text/x-python",
   "codemirror_mode": {
    "name": "ipython",
    "version": 3
   },
   "pygments_lexer": "ipython3",
   "nbconvert_exporter": "python",
   "file_extension": ".py"
  },
  "kernelspec": {
   "name": "python3",
   "display_name": "Python 3.9.6 64-bit"
  },
  "interpreter": {
   "hash": "b0fa6594d8f4cbf19f97940f81e996739fb7646882a419484c72d19e05852a7e"
  }
 },
 "nbformat": 4,
 "nbformat_minor": 2
}